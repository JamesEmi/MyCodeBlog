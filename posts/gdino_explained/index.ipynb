{
 "cells": [
  {
   "cell_type": "markdown",
   "metadata": {},
   "source": [
    "# Grounding-DINO - Explained"
   ]
  },
  {
   "cell_type": "markdown",
   "metadata": {},
   "source": [
    "Why am I writing this blog when there are a dozen other blogs that mention Grounding DINO and explain how it works ?? Well - I have been working with this model for my research for a little over 2 months now - and I still don't understand how it works so well. How does it work so well? What did the paper's authors do or try differently that hadn't been done before? Being a highly spatial / visual learner, is it possible to run any experiments or play with the model in ways that reveal how it manages to achieve the purported 'open set object detection' abilities? \n",
    "\n",
    "These are some questions I aim to delve into in this blogpost. This could quickly turn into a review of grounding-based models, so I'm buckling up for that too."
   ]
  },
  {
   "cell_type": "code",
   "execution_count": null,
   "metadata": {},
   "outputs": [],
   "source": []
  },
  {
   "cell_type": "code",
   "execution_count": null,
   "metadata": {},
   "outputs": [],
   "source": []
  },
  {
   "cell_type": "code",
   "execution_count": null,
   "metadata": {},
   "outputs": [],
   "source": []
  },
  {
   "cell_type": "markdown",
   "metadata": {},
   "source": []
  },
  {
   "cell_type": "code",
   "execution_count": null,
   "metadata": {},
   "outputs": [],
   "source": []
  },
  {
   "cell_type": "code",
   "execution_count": null,
   "metadata": {},
   "outputs": [],
   "source": []
  }
 ],
 "metadata": {
  "language_info": {
   "name": "python"
  }
 },
 "nbformat": 4,
 "nbformat_minor": 2
}
