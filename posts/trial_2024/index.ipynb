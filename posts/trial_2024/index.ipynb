{
 "cells": [
  {
   "cell_type": "markdown",
   "id": "e5e8074f-c8fa-47be-836a-19e74f6c5679",
   "metadata": {},
   "source": [
    "## Blood Mask EDA"
   ]
  },
  {
   "cell_type": "markdown",
   "id": "c2deedbf-5b45-4de7-a243-bbf0763f05ef",
   "metadata": {},
   "source": [
    "Take a look at the data I have now - how a blood mask png generated on Pixelmator looks:"
   ]
  },
  {
   "cell_type": "code",
   "execution_count": 1,
   "id": "c544524a-1e0b-4c7b-a7b3-ebb420219d9f",
   "metadata": {},
   "outputs": [
    {
     "data": {
      "text/plain": [
       "(723, 758, 4)"
      ]
     },
     "execution_count": 1,
     "metadata": {},
     "output_type": "execute_result"
    }
   ],
   "source": [
    "from PIL import Image\n",
    "import numpy as np\n",
    "\n",
    "mask = Image.open('/notebooks/triage/hemofpn/data_v2/train/masks/02.png')\n",
    "\n",
    "mask_arr = np.array(mask)\n",
    "mask_arr.shape"
   ]
  },
  {
   "cell_type": "code",
   "execution_count": 2,
   "id": "2160abb5-f98a-434b-a731-86953b5fe03b",
   "metadata": {},
   "outputs": [
    {
     "data": {
      "text/plain": [
       "array([  0,   1,   2,   3,   4,   5,   6,   7,   8,   9,  10,  11,  12,\n",
       "        13,  14,  15,  16,  17,  18,  19,  20,  21,  22,  23,  24,  25,\n",
       "        26,  27,  28,  29,  30,  31,  32,  33,  34,  35,  36,  37,  38,\n",
       "        39,  40,  41,  42,  43,  44,  45,  46,  47,  48,  49,  50,  51,\n",
       "        52,  53,  54,  55,  56,  57,  58,  59,  60,  61,  62,  63,  64,\n",
       "        65,  66,  67,  68,  69,  70,  71,  72,  73,  74,  75,  76,  77,\n",
       "        78,  79,  80,  81,  82,  83,  84,  85,  86,  87,  88,  89,  90,\n",
       "        91,  92,  93,  94,  95,  96,  97,  98,  99, 100, 101, 102, 103,\n",
       "       104, 105, 106, 107, 108, 109, 110, 111, 112, 113, 114, 115, 116,\n",
       "       117, 118, 119, 120, 121, 122, 123, 124, 125, 126, 127, 128, 129,\n",
       "       130, 131, 132, 133, 134, 135, 136, 137, 138, 139, 140, 141, 142,\n",
       "       143, 144, 145, 146, 147, 148, 149, 150, 151, 152, 153, 154, 155,\n",
       "       156, 157, 158, 159, 160, 161, 162, 163, 164, 165, 166, 167, 168,\n",
       "       169, 170, 171, 172, 173, 174, 175, 176, 177, 178, 179, 180, 181,\n",
       "       182, 183, 184, 185, 186, 187, 188, 189, 190, 191, 192, 193, 194,\n",
       "       195, 196, 197, 198, 199, 200, 201, 202, 203, 204, 205, 206, 207,\n",
       "       208, 209, 210, 211, 212, 213, 214, 215, 216, 217, 218, 219, 220,\n",
       "       221, 222, 223, 224, 225, 226, 227, 228, 229, 230, 231, 232, 233,\n",
       "       234, 235, 236, 237, 238, 239, 240, 241, 242, 243, 244, 245, 246,\n",
       "       247, 248, 249, 250, 251, 252, 253, 254, 255], dtype=uint8)"
      ]
     },
     "execution_count": 2,
     "metadata": {},
     "output_type": "execute_result"
    }
   ],
   "source": [
    "np.unique(mask_arr)"
   ]
  },
  {
   "cell_type": "markdown",
   "id": "319fe4e2-dbcc-4cef-871a-745ad9b7f4b8",
   "metadata": {},
   "source": [
    "What does the image itself look like?"
   ]
  },
  {
   "cell_type": "code",
   "execution_count": 3,
   "id": "0f7cd208-5781-4d2f-a7e9-f51af6179775",
   "metadata": {},
   "outputs": [
    {
     "data": {
      "text/plain": [
       "(723, 758, 4)"
      ]
     },
     "execution_count": 3,
     "metadata": {},
     "output_type": "execute_result"
    }
   ],
   "source": [
    "from PIL import Image\n",
    "import numpy as np\n",
    "\n",
    "image = Image.open('/notebooks/triage/hemofpn/data_v2/train/images/02.png')\n",
    "\n",
    "image_arr = np.array(image)\n",
    "image_arr.shape"
   ]
  },
  {
   "cell_type": "code",
   "execution_count": 4,
   "id": "699afd10-a2b9-4c9c-a93c-d18dafe924b8",
   "metadata": {},
   "outputs": [],
   "source": [
    "def pad_im(image, target_shape=(768, 768)):\n",
    "        if image.ndim == 3 and (image.shape[2] == 3 or image.shape[2] == 1):  # If image is in HWC format\n",
    "            h, w, c = image.shape\n",
    "            image = np.transpose(image, (2, 0, 1))  # Convert to CHW for processing\n",
    "        elif image.ndim == 3 and (image.shape[0] == 3 or image.shape[0] == 1):  # If image is in CHW format\n",
    "            c, h, w = image.shape\n",
    "            # image = np.transpose(image, (1, 2, 0))  # Convert to HWC for processing\n",
    "        elif image.ndim == 2:\n",
    "            h, w = image.shape\n",
    "        else:\n",
    "            raise ValueError(\"Unexpected image format, image is of shape:\", image.shape)\n",
    "        \n",
    "        scale = min(target_shape[0] / h, target_shape[1] / w)\n",
    "        new_h, new_w = int(h * scale), int(w * scale)\n",
    "\n",
    "        # Ensure dimensions are divisible by 32\n",
    "        new_h = ((new_h + 31) // 32) * 32\n",
    "        new_w = ((new_w + 31) // 32) * 32\n",
    "\n",
    "        resized_image = np.array([cv2.resize(img, (new_w, new_h)) for img in image])\n",
    "\n",
    "        pad_h = max(target_shape[0] - new_h, 0)\n",
    "        pad_w = max(target_shape[1] - new_w, 0)\n",
    "        pad_top = pad_h // 2\n",
    "        pad_bottom = pad_h - pad_top\n",
    "        pad_left = pad_w // 2\n",
    "        pad_right = pad_w - pad_left\n",
    "\n",
    "        padded_im = np.pad(resized_image, ((0, 0), (pad_top, pad_bottom), (pad_left, pad_right)), mode='constant')\n",
    "\n",
    "        return padded_im"
   ]
  },
  {
   "cell_type": "code",
   "execution_count": 5,
   "id": "837f741e-d17a-489b-b327-577e837176fb",
   "metadata": {},
   "outputs": [
    {
     "name": "stdout",
     "output_type": "stream",
     "text": [
      "Requirement already satisfied: opencv-python in /usr/local/lib/python3.9/dist-packages (4.6.0.66)\n",
      "Requirement already satisfied: numpy>=1.17.3 in /usr/local/lib/python3.9/dist-packages (from opencv-python) (1.23.4)\n",
      "\u001b[33mWARNING: Running pip as the 'root' user can result in broken permissions and conflicting behaviour with the system package manager. It is recommended to use a virtual environment instead: https://pip.pypa.io/warnings/venv\u001b[0m\u001b[33m\n",
      "\u001b[0m"
     ]
    }
   ],
   "source": [
    "!pip install opencv-python"
   ]
  },
  {
   "cell_type": "code",
   "execution_count": 6,
   "id": "d1e9e4c5-cf33-40fa-857b-e87d0f9c440a",
   "metadata": {},
   "outputs": [],
   "source": [
    "import matplotlib.pyplot as plt"
   ]
  },
  {
   "cell_type": "code",
   "execution_count": 8,
   "id": "9b139ae1-ae25-4cbb-bbcb-18afe07076f8",
   "metadata": {},
   "outputs": [
    {
     "data": {
      "text/plain": [
       "(723, 758, 3)"
      ]
     },
     "execution_count": 8,
     "metadata": {},
     "output_type": "execute_result"
    }
   ],
   "source": [
    "image.shape"
   ]
  },
  {
   "cell_type": "code",
   "execution_count": 9,
   "id": "8acac495-bec3-4829-abda-520b0e403d33",
   "metadata": {},
   "outputs": [
    {
     "data": {
      "text/plain": [
       "(3, 723, 758)"
      ]
     },
     "execution_count": 9,
     "metadata": {},
     "output_type": "execute_result"
    }
   ],
   "source": [
    "image = np.transpose(image, (2, 0, 1))\n",
    "image.shape"
   ]
  },
  {
   "cell_type": "code",
   "execution_count": 10,
   "id": "bab069d3-da46-4b59-8a89-f56ccfd126b2",
   "metadata": {},
   "outputs": [
    {
     "data": {
      "text/plain": [
       "(3, 768, 768)"
      ]
     },
     "execution_count": 10,
     "metadata": {},
     "output_type": "execute_result"
    }
   ],
   "source": [
    "image = pad_im(image)\n",
    "image.shape"
   ]
  },
  {
   "cell_type": "markdown",
   "id": "128e5c53-fe0d-4313-8141-d25ee8438169",
   "metadata": {},
   "source": [
    "Ok, after padding the image has this shape."
   ]
  },
  {
   "cell_type": "markdown",
   "id": "762ae276-3b9d-4a05-9478-a18302783a0b",
   "metadata": {},
   "source": [
    "How does a blood mask png from F8 look?"
   ]
  },
  {
   "cell_type": "code",
   "execution_count": 12,
   "id": "207babc2-0576-4c65-bf12-f12513f0f7bf",
   "metadata": {},
   "outputs": [
    {
     "data": {
      "text/plain": [
       "(1440, 1920, 4)"
      ]
     },
     "execution_count": 12,
     "metadata": {},
     "output_type": "execute_result"
    }
   ],
   "source": [
    "mask_f8 = Image.open('/notebooks/triage/hemofpn/data_f8/train/masks/adt2_image_1121.png')\n",
    "\n",
    "mask_f8 = np.array(mask_f8)\n",
    "mask_f8.shape"
   ]
  },
  {
   "cell_type": "code",
   "execution_count": 13,
   "id": "7285df7c-e08d-43ff-9571-0d2b9482ff0a",
   "metadata": {},
   "outputs": [
    {
     "data": {
      "text/plain": [
       "array([  0, 255], dtype=uint8)"
      ]
     },
     "execution_count": 13,
     "metadata": {},
     "output_type": "execute_result"
    }
   ],
   "source": [
    "np.unique(mask_f8)"
   ]
  },
  {
   "cell_type": "code",
   "execution_count": 14,
   "id": "43cf1452-13a2-4418-99a9-23e8ebf28655",
   "metadata": {},
   "outputs": [
    {
     "data": {
      "text/plain": [
       "<matplotlib.image.AxesImage at 0x7fa624425df0>"
      ]
     },
     "execution_count": 14,
     "metadata": {},
     "output_type": "execute_result"
    },
    {
     "data": {
      "image/png": "[encoded data removed]",
      "text/plain": [
       "<Figure size 640x480 with 1 Axes>"
      ]
     },
     "metadata": {},
     "output_type": "display_data"
    }
   ],
   "source": [
    "import cv2\n",
    "\n",
    "image = cv2.imread('/notebooks/triage/hemofpn/data_f8/train/masks/adt2_image_1121.png')\n",
    "\n",
    "image = cv2.cvtColor(image, cv2.COLOR_BGR2RGB)\n",
    "plt.imshow(image)"
   ]
  },
  {
   "cell_type": "code",
   "execution_count": 15,
   "id": "f72670c8-8a13-4933-8e81-4c481be53763",
   "metadata": {},
   "outputs": [
    {
     "data": {
      "text/plain": [
       "(1440, 1920, 3)"
      ]
     },
     "execution_count": 15,
     "metadata": {},
     "output_type": "execute_result"
    }
   ],
   "source": [
    "image.shape"
   ]
  },
  {
   "cell_type": "markdown",
   "id": "42df2bfa-34d0-470b-9750-5ad37475da9c",
   "metadata": {},
   "source": [
    "Looks ok - the only difference is that with F8 masks the constituent values are only 0 and 255. "
   ]
  }
 ],
 "metadata": {
  "kernelspec": {
   "display_name": "Python 3 (ipykernel)",
   "language": "python",
   "name": "python3"
  },
  "language_info": {
   "codemirror_mode": {
    "name": "ipython",
    "version": 3
   },
   "file_extension": ".py",
   "mimetype": "text/x-python",
   "name": "python",
   "nbconvert_exporter": "python",
   "pygments_lexer": "ipython3",
   "version": "3.9.16"
  }
 },
 "nbformat": 4,
 "nbformat_minor": 5
}
